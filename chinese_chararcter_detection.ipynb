{
 "cells": [
  {
   "cell_type": "code",
   "execution_count": 1,
   "source": [
    "import json\n",
    "import jsonlines\n",
    "import numpy as np\n",
    "import pandas as pd\n",
    "from os import listdir\n",
    "from os.path import isfile, join\n",
    "from torchvision import transforms\n",
    "\n",
    "source_dir = \"/scratch/lt2326-h21/a1/\"\n",
    "image_dir = \"/scratch/lt2326-h21/a1/images/\"\n",
    "info_filename = \"/scratch/lt2326-h21/a1/info.json\""
   ],
   "outputs": [],
   "metadata": {}
  },
  {
   "cell_type": "code",
   "execution_count": 2,
   "source": [
    "image_files = [f for f in listdir(image_dir) if isfile(join(image_dir, f))]"
   ],
   "outputs": [],
   "metadata": {}
  },
  {
   "cell_type": "code",
   "execution_count": 3,
   "source": [
    "with open(info_filename, 'r') as info_file:\n",
    "    data = info_file.read()\n",
    "info_obj = json.loads(data)"
   ],
   "outputs": [],
   "metadata": {}
  },
  {
   "cell_type": "code",
   "execution_count": 4,
   "source": [
    "df_train = pd.DataFrame.from_dict(info_obj['train'])\n",
    "df_val = pd.DataFrame.from_dict(info_obj['val'])\n",
    "df = pd.concat([df_train, df_val])"
   ],
   "outputs": [],
   "metadata": {}
  },
  {
   "cell_type": "code",
   "execution_count": 5,
   "source": [
    "df = df[pd.DataFrame(df.file_name.to_list()).isin(image_files).any(1).values]"
   ],
   "outputs": [],
   "metadata": {}
  },
  {
   "cell_type": "code",
   "execution_count": 6,
   "source": [
    "bb_data = []\n",
    "\n",
    "with jsonlines.open(source_dir + \"train.jsonl\") as reader:\n",
    "   for line in reader.iter(type=dict):\n",
    "      if (line.get('file_name') in image_files):\n",
    "         bb_data.append(line)\n",
    "\n",
    "with jsonlines.open(source_dir + \"val.jsonl\") as reader:\n",
    "   for line in reader.iter(type=dict):\n",
    "      if (line.get('file_name') in image_files):\n",
    "         bb_data.append(line)"
   ],
   "outputs": [],
   "metadata": {}
  },
  {
   "cell_type": "code",
   "execution_count": null,
   "source": [
    "bb_data"
   ],
   "outputs": [],
   "metadata": {}
  },
  {
   "cell_type": "code",
   "execution_count": 4,
   "source": [
    "import matplotlib.pyplot as plt\n",
    "import matplotlib.image as mpimg\n",
    "testimg = mpimg.imread(image_dir + \"0000486.jpg\")\n",
    "imgarray= np.array(testimg)\n",
    "convert_tensor = transforms.ToTensor()"
   ],
   "outputs": [],
   "metadata": {}
  },
  {
   "cell_type": "markdown",
   "source": [
    "/usr/local/lib64/python3.9/site-packages/torchvision/transforms/functional.py:114: UserWarning: The given NumPy array is not writeable, and PyTorch does not support non-writeable tensors. This means you can write to the underlying (supposedly non-writeable) NumPy array using the tensor. You may want to copy the array to protect its data or make it writeable before converting it to a tensor. This type of warning will be suppressed for the rest of this program. (Triggered internally at  /pytorch/torch/csrc/utils/tensor_numpy.cpp:180.)\n"
   ],
   "metadata": {}
  },
  {
   "cell_type": "code",
   "execution_count": 3,
   "source": [
    "convert_tensor(imgarray)"
   ],
   "outputs": [
    {
     "output_type": "execute_result",
     "data": {
      "text/plain": [
       "tensor([[[0.5137, 0.5373, 0.4863,  ..., 0.6863, 0.6863, 0.6863],\n",
       "         [0.4863, 0.5490, 0.4941,  ..., 0.6863, 0.6863, 0.6863],\n",
       "         [0.4510, 0.5529, 0.4941,  ..., 0.6863, 0.6863, 0.6863],\n",
       "         ...,\n",
       "         [0.4000, 0.4078, 0.4196,  ..., 0.5176, 0.5020, 0.4784],\n",
       "         [0.4078, 0.4314, 0.4510,  ..., 0.5137, 0.5216, 0.5137],\n",
       "         [0.4118, 0.4314, 0.4353,  ..., 0.4902, 0.5294, 0.5216]],\n",
       "\n",
       "        [[0.5608, 0.5922, 0.5490,  ..., 0.7725, 0.7725, 0.7725],\n",
       "         [0.5333, 0.6039, 0.5569,  ..., 0.7725, 0.7725, 0.7725],\n",
       "         [0.4863, 0.5961, 0.5490,  ..., 0.7725, 0.7725, 0.7725],\n",
       "         ...,\n",
       "         [0.3922, 0.4000, 0.4118,  ..., 0.5098, 0.4941, 0.4706],\n",
       "         [0.4000, 0.4235, 0.4431,  ..., 0.5059, 0.5137, 0.5059],\n",
       "         [0.4039, 0.4235, 0.4275,  ..., 0.4824, 0.5216, 0.5137]],\n",
       "\n",
       "        [[0.6549, 0.6941, 0.6471,  ..., 0.9333, 0.9255, 0.9255],\n",
       "         [0.6353, 0.7059, 0.6549,  ..., 0.9333, 0.9255, 0.9255],\n",
       "         [0.6000, 0.7059, 0.6549,  ..., 0.9333, 0.9255, 0.9255],\n",
       "         ...,\n",
       "         [0.4039, 0.4118, 0.4235,  ..., 0.5137, 0.4980, 0.4745],\n",
       "         [0.4118, 0.4353, 0.4549,  ..., 0.5098, 0.5176, 0.5098],\n",
       "         [0.4157, 0.4353, 0.4392,  ..., 0.4863, 0.5255, 0.5176]]])"
      ]
     },
     "metadata": {},
     "execution_count": 3
    }
   ],
   "metadata": {}
  }
 ],
 "metadata": {
  "orig_nbformat": 4,
  "kernelspec": {
   "name": "python3",
   "display_name": "Python 3.9.6 64-bit"
  },
  "language_info": {
   "name": "python",
   "version": "3.9.6",
   "mimetype": "text/x-python",
   "codemirror_mode": {
    "name": "ipython",
    "version": 3
   },
   "pygments_lexer": "ipython3",
   "nbconvert_exporter": "python",
   "file_extension": ".py"
  },
  "interpreter": {
   "hash": "767d51c1340bd893661ea55ea3124f6de3c7a262a8b4abca0554b478b1e2ff90"
  }
 },
 "nbformat": 4,
 "nbformat_minor": 2
}