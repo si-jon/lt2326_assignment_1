{
 "cells": [
  {
   "cell_type": "markdown",
   "source": [
    "Deadline: 23:59 on 2021 October 18\n",
    "\n",
    "# TODO\n",
    "\n",
    "* Prepare data\n",
    "    * Images to tensors\n",
    "    * Bounding box infomration to numpy array\n",
    "* Implement two different models\n",
    "    * Representation of the images as training input\n",
    "    * Representation of the bounding boxes as objective\n",
    "        * HINT: the binary classification of pixels as belonging to a bounding box or not\n",
    "* Test and evaluate\n",
    "    * Way 1: choose a probability threshold to decide whether a pixel is inside the bounding box or not, and then take recall/precision/X11/accuracy\n",
    "    * Way 2: report it in terms of error, such as mean squared error\n"
   ],
   "metadata": {}
  },
  {
   "cell_type": "code",
   "execution_count": 1,
   "source": [
    "import json\n",
    "import jsonlines\n",
    "import numpy as np\n",
    "import pandas as pd\n",
    "from os import listdir\n",
    "from os.path import isfile, join\n",
    "from torchvision import transforms\n",
    "\n",
    "source_dir = \"/scratch/lt2326-h21/a1/\"\n",
    "image_dir = \"/scratch/lt2326-h21/a1/images/\"\n",
    "info_filename = \"/scratch/lt2326-h21/a1/info.json\""
   ],
   "outputs": [],
   "metadata": {}
  },
  {
   "cell_type": "code",
   "execution_count": 2,
   "source": [
    "image_files = [f for f in listdir(image_dir) if isfile(join(image_dir, f))]"
   ],
   "outputs": [],
   "metadata": {}
  },
  {
   "cell_type": "code",
   "execution_count": 3,
   "source": [
    "with open(info_filename, 'r') as info_file:\n",
    "    data = info_file.read()\n",
    "info_obj = json.loads(data)"
   ],
   "outputs": [],
   "metadata": {}
  },
  {
   "cell_type": "code",
   "execution_count": 4,
   "source": [
    "df_train = pd.DataFrame.from_dict(info_obj['train'])\n",
    "df_val = pd.DataFrame.from_dict(info_obj['val'])\n",
    "df = pd.concat([df_train, df_val])"
   ],
   "outputs": [],
   "metadata": {}
  },
  {
   "cell_type": "code",
   "execution_count": 5,
   "source": [
    "df = df[pd.DataFrame(df.file_name.to_list()).isin(image_files).any(1).values]"
   ],
   "outputs": [],
   "metadata": {}
  },
  {
   "cell_type": "code",
   "execution_count": 6,
   "source": [
    "bb_data = []\n",
    "\n",
    "with jsonlines.open(source_dir + \"train.jsonl\") as reader:\n",
    "   for line in reader.iter(type=dict):\n",
    "      if (line.get('file_name') in image_files):\n",
    "         bb_data.append(line)\n",
    "\n",
    "with jsonlines.open(source_dir + \"val.jsonl\") as reader:\n",
    "   for line in reader.iter(type=dict):\n",
    "      if (line.get('file_name') in image_files):\n",
    "         bb_data.append(line)"
   ],
   "outputs": [],
   "metadata": {}
  },
  {
   "cell_type": "code",
   "execution_count": 8,
   "source": [
    "import matplotlib.pyplot as plt\n",
    "import matplotlib.image as mpimg\n",
    "#testimg = mpimg.imread(image_dir + \"0000486.jpg\")\n",
    "#imgarray= np.array(testimg)\n",
    "convert_tensor = transforms.ToTensor()\n",
    "# convert_tensor(imgarray)"
   ],
   "outputs": [],
   "metadata": {}
  },
  {
   "cell_type": "code",
   "execution_count": null,
   "source": [
    "training_data = [] # lista av tuples, med bild och ground truth\n",
    "\n",
    "for entry in bb_data:\n",
    "    # convert image file to tensor\n",
    "    # img = mpimg.imread(image_dir + entry['file_name'])\n",
    "    # convert_tensor(img)\n",
    "    # create 2048 x 2048 numpy array\n",
    "    # add bounding boxes to the new array\n",
    "    # add img tensor and bounding box array as tuples to training_data\n",
    "    \n",
    "    pass\n"
   ],
   "outputs": [],
   "metadata": {}
  }
 ],
 "metadata": {
  "orig_nbformat": 4,
  "kernelspec": {
   "name": "python3",
   "display_name": "Python 3.8.10 64-bit"
  },
  "language_info": {
   "name": "python",
   "version": "3.8.10",
   "mimetype": "text/x-python",
   "codemirror_mode": {
    "name": "ipython",
    "version": 3
   },
   "pygments_lexer": "ipython3",
   "nbconvert_exporter": "python",
   "file_extension": ".py"
  },
  "interpreter": {
   "hash": "916dbcbb3f70747c44a77c7bcd40155683ae19c65e1c03b4aa3499c5328201f1"
  }
 },
 "nbformat": 4,
 "nbformat_minor": 2
}